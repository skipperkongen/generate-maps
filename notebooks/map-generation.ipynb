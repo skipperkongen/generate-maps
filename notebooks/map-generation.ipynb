{
 "cells": [
  {
   "cell_type": "code",
   "execution_count": 2,
   "metadata": {},
   "outputs": [],
   "source": [
    "import matplotlib.pyplot as plt\n",
    "from shapely.geometry import Polygon\n",
    "\n",
    "# Utility function\n",
    "def plot_map(*polys):\n",
    "    for poly in polys:\n",
    "        x,y = poly.exterior.xy\n",
    "        plt.fill(x,y, \"g\")\n",
    "    plt.axis('off')\n",
    "    plt.show()"
   ]
  },
  {
   "cell_type": "markdown",
   "metadata": {},
   "source": [
    "# The hard-coded map\n",
    "\n",
    "Polygons drawn by hand hardly constitutes a map-generating recipe. But, the code below illustrates the minimum requirements for a map. A single polygon and a function to plot it."
   ]
  },
  {
   "cell_type": "code",
   "execution_count": 3,
   "metadata": {},
   "outputs": [
    {
     "data": {
      "image/png": "[encoded data removed]",
      "text/plain": [
       "<Figure size 432x288 with 1 Axes>"
      ]
     },
     "metadata": {
      "needs_background": "light"
     },
     "output_type": "display_data"
    }
   ],
   "source": [
    "# Basic hardcoded polygon map\n",
    "\n",
    "poly = Polygon([(0,5),\n",
    "                    (1,1),\n",
    "                    (3,0),\n",
    "                    ])\n",
    "\n",
    "plot_map(poly)"
   ]
  },
  {
   "cell_type": "markdown",
   "metadata": {},
   "source": [
    "# Noise points to polygons\n",
    "\n",
    "A basic meta-recipe with two steps:\n",
    "\n",
    "1. Generate set of noisy points\n",
    "2. Apply a point-to-polygon algorithm\n",
    "\n",
    "Some algorithms for the second step:\n",
    "- Hull algorithms directly yield map polygons:\n",
    "    - Convex hull\n",
    "    - Concave hull, e.g. alphashape\n",
    "- Clustering algorithms:\n",
    "    - DBScan\n",
    "    - K-means\n",
    "    \n",
    "Note that clustering algorithms don't yield polygons, but they can be used to identify points on the same \"island\"."
   ]
  },
  {
   "cell_type": "code",
   "execution_count": 109,
   "metadata": {},
   "outputs": [
    {
     "data": {
      "image/png": "[encoded data removed]",
      "text/plain": [
       "<Figure size 432x288 with 1 Axes>"
      ]
     },
     "metadata": {
      "needs_background": "light"
     },
     "output_type": "display_data"
    }
   ],
   "source": [
    "# Alpha-shape map (non-layered)\n",
    "import alphashape\n",
    "import numpy as np\n",
    "from sklearn.datasets import make_moons, make_blobs\n",
    "N_POINTS = 500\n",
    "ALPHA = 2.5\n",
    "RANDOM_STATE = 0\n",
    "\n",
    "blobs_params = dict(random_state=RANDOM_STATE, n_samples=N_POINTS, n_features=2)\n",
    "# https://scikit-learn.org/stable/auto_examples/plot_anomaly_comparison.html\n",
    "points = make_blobs(centers=[[0, 0], [0, 0]], cluster_std=[2.5, .3],\n",
    "               **blobs_params)[0]\n",
    "points += make_moons(n_samples=N_POINTS, noise=.1, random_state=RANDOM_STATE)[0] * 4\n",
    "    \n",
    "# https://pypi.org/project/alphashape/\n",
    "polys = alphashape.alphashape(points, ALPHA)\n",
    "\n",
    "# plot polygons\n",
    "plot_map(*polys)"
   ]
  },
  {
   "cell_type": "code",
   "execution_count": null,
   "metadata": {},
   "outputs": [],
   "source": []
  },
  {
   "cell_type": "code",
   "execution_count": null,
   "metadata": {},
   "outputs": [],
   "source": []
  }
 ],
 "metadata": {
  "kernelspec": {
   "display_name": "Python 3",
   "language": "python",
   "name": "python3"
  },
  "language_info": {
   "codemirror_mode": {
    "name": "ipython",
    "version": 3
   },
   "file_extension": ".py",
   "mimetype": "text/x-python",
   "name": "python",
   "nbconvert_exporter": "python",
   "pygments_lexer": "ipython3",
   "version": "3.7.3"
  }
 },
 "nbformat": 4,
 "nbformat_minor": 4
}
